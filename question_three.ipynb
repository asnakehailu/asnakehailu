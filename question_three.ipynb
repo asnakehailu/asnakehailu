{
 "cells": [
  {
   "cell_type": "code",
   "execution_count": 1,
   "metadata": {},
   "outputs": [
    {
     "name": "stdout",
     "output_type": "stream",
     "text": [
      "['Genete', 'Ketemash', 'Adanach', 'Yoni']\n",
      "['Genete', 'Ketemash', 'Adanach', 'Yoni', 'Miki', 'Iyoas']\n",
      "3\n",
      "['Genete', 'Ketemash', 'Adanach', 'Miki', 'Iyoas']\n"
     ]
    }
   ],
   "source": [
    "student_name = []\n",
    "\n",
    "list_length = 4\n",
    "\n",
    "\n",
    "\n",
    "for i in range(list_length):\n",
    "    d_name = input('Please enter your name: ')\n",
    "    student_name.append(d_name)\n",
    "print(student_name)\n",
    "\n",
    "y = ['Miki','Iyoas']\n",
    "\n",
    "student_name.extend(y)\n",
    "\n",
    "print(student_name)\n",
    "\n",
    "p = student_name.index('Yoni')\n",
    "\n",
    "print(p)\n",
    "\n",
    "student_name.pop(3)\n",
    "\n",
    "print(student_name)"
   ]
  }
 ],
 "metadata": {
  "kernelspec": {
   "display_name": "Python 3.10.8 64-bit (microsoft store)",
   "language": "python",
   "name": "python3"
  },
  "language_info": {
   "codemirror_mode": {
    "name": "ipython",
    "version": 3
   },
   "file_extension": ".py",
   "mimetype": "text/x-python",
   "name": "python",
   "nbconvert_exporter": "python",
   "pygments_lexer": "ipython3",
   "version": "3.10.8"
  },
  "orig_nbformat": 4,
  "vscode": {
   "interpreter": {
    "hash": "79d2f3bad02ce9ea745189cf150f9f93ae37ee3737d73d8200664a8d49b30bc3"
   }
  }
 },
 "nbformat": 4,
 "nbformat_minor": 2
}
