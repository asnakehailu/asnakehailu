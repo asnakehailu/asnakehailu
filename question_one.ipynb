{
 "cells": [
  {
   "cell_type": "code",
   "execution_count": null,
   "metadata": {},
   "outputs": [
    {
     "name": "stdout",
     "output_type": "stream",
     "text": [
      "Hollo user!\n"
     ]
    }
   ],
   "source": [
    "#Question 1\n",
    "#import datetime: we need to import datetime to get the current date from our local machine\n",
    "# year : datetime.date.today().year will provide us the current date in YYYY format  \n",
    "# obtained_year : will provide us when the individual obtained the license by subtracting\n",
    "                    #the age at which the person gets his license from the date of birth \n",
    "#driving_history : tells how long the driver got the license \n",
    "\n",
    "\n",
    "\n",
    "import datetime \n",
    "\n",
    "print(\"Hollo user!\")\n",
    "user = input(\"What is your name? \")\n",
    "print(\"Hello,\" + user)\n",
    "x = 30\n",
    "year = datetime.date.today().year \n",
    "dob = int(input(\"What is your year of birth? \"))\n",
    "age = year - dob\n",
    "response = input(\"Do you know how to drive? Please say 'yes' or 'no' \")\n",
    "\n",
    "if  response =='yes':\n",
    "    driving_license_at_age = int(input(\"How old were you when you got your driving license? \"))\n",
    "    obtained_year = dob + driving_license_at_age\n",
    "    driving_history = int(year) - obtained_year\n",
    "    print(f\"You got your driving license in {obtained_year} and you have been driving for {driving_history} years\")\n",
    "\n",
    "if response == 'no': \n",
    "    if age>30:\n",
    "        print(f\"You are {age} years old now but you still can't drive. You were supposed to get your license in {dob + x},{driving_history} years ago at the age of 30 at the latest\")\n",
    "    else:\n",
    "        print(f\"You are {age} years old now and you should work on getting your driving license before you turn 30. You have {x -age} years to go until the year {dob + x}\")\n",
    "\n",
    "    \n",
    "    \n"
   ]
  }
 ],
 "metadata": {
  "kernelspec": {
   "display_name": "Python 3",
   "language": "python",
   "name": "python3"
  },
  "language_info": {
   "codemirror_mode": {
    "name": "ipython",
    "version": 3
   },
   "file_extension": ".py",
   "mimetype": "text/x-python",
   "name": "python",
   "nbconvert_exporter": "python",
   "pygments_lexer": "ipython3",
   "version": "3.10.11"
  },
  "orig_nbformat": 4
 },
 "nbformat": 4,
 "nbformat_minor": 2
}
